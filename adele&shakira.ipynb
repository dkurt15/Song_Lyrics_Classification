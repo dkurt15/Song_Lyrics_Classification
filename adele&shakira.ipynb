{
 "cells": [
  {
   "cell_type": "code",
   "execution_count": 66,
   "id": "57a0fbcf",
   "metadata": {},
   "outputs": [],
   "source": [
    "import requests\n",
    "import re\n",
    "from bs4 import BeautifulSoup\n",
    "import pandas as pd\n",
    "\n",
    "from sklearn.model_selection import train_test_split\n",
    "from sklearn.linear_model import LogisticRegression\n",
    "from sklearn.ensemble import RandomForestClassifier \n",
    "from sklearn.model_selection import cross_val_score\n",
    "from sklearn.model_selection import GridSearchCV\n",
    "from sklearn import svm\n",
    "\n",
    "import matplotlib.pyplot as plt\n",
    "import time\n",
    "import pickle\n",
    "\n",
    "\n",
    "from sklearn.feature_extraction.text import TfidfVectorizer \n",
    "import spacy\n",
    "\n",
    "from sklearn.metrics import plot_confusion_matrix\n",
    "from sklearn.metrics import accuracy_score, precision_score, recall_score, confusion_matrix, f1_score"
   ]
  },
  {
   "cell_type": "code",
   "execution_count": 4,
   "id": "197079a8",
   "metadata": {},
   "outputs": [],
   "source": [
    "def get_links(artist:str):    \n",
    "    \n",
    "    \"\"\"Function, that returns a list of songs links of an artist (www.lyrics.com) \"\"\"\n",
    "    try:\n",
    "        html=requests.get(f'https://www.lyrics.com/artist/{artist}').text  \n",
    "\n",
    "        html_soup = BeautifulSoup(html, 'html.parser')\n",
    "\n",
    "        link_list=[]\n",
    "        for link in html_soup.find_all(attrs={\"class\":\"tal qx\"}):\n",
    "            for link in link.find_all(\"a\"):\n",
    "                link=link.get('href')\n",
    "                lyr_link='https://www.lyrics.com/'+link\n",
    "            \n",
    "                link_list.append(lyr_link)\n",
    "        return link_list\n",
    "    except:\n",
    "        print(\"Connection refused by the server..\")\n",
    "        print(\"Let me sleep for 5 seconds\")\n",
    "        print(\"ZZzzzz...\")\n",
    "        time.sleep(10)"
   ]
  },
  {
   "cell_type": "code",
   "execution_count": 5,
   "id": "4532d474",
   "metadata": {},
   "outputs": [],
   "source": [
    "def get_lyrics(song_link:str): \n",
    "    \"\"\"Function, that returns a string with song's lyrics (www.lyrics.com)\"\"\"\n",
    "    \n",
    "    string=''\n",
    "    try:\n",
    "        song_html=requests.get(song_link).text\n",
    "        lyrics_soup = BeautifulSoup(song_html, 'html.parser')\n",
    "\n",
    "        for section in lyrics_soup.find_all(attrs={\"class\":\"lyric-body\"}):\n",
    "            text=section.text.split()\n",
    "            for i in text:\n",
    "                string+=i.lower()+' '\n",
    "        return string\n",
    "    except:\n",
    "        print(\"Connection refused by the server..\")\n",
    "        print(\"Let me sleep for 5 seconds\")\n",
    "        print(\"ZZzzzz...\")\n",
    "        time.sleep(10)"
   ]
  },
  {
   "cell_type": "code",
   "execution_count": 6,
   "id": "d8b39bc5",
   "metadata": {},
   "outputs": [],
   "source": [
    "adele_links = get_links('adele')"
   ]
  },
  {
   "cell_type": "code",
   "execution_count": 7,
   "id": "b209560d",
   "metadata": {},
   "outputs": [],
   "source": [
    "adele_lyrics = []\n",
    "for link in adele_links:\n",
    "    adele_lyrics.append(get_lyrics(link))"
   ]
  },
  {
   "cell_type": "code",
   "execution_count": 8,
   "id": "dc6e353f",
   "metadata": {},
   "outputs": [],
   "source": [
    "shakira_links = get_links('shakira')"
   ]
  },
  {
   "cell_type": "code",
   "execution_count": 9,
   "id": "7efc9ff2",
   "metadata": {},
   "outputs": [],
   "source": [
    "shakira_lyrics = []\n",
    "for link in shakira_links:\n",
    "    shakira_lyrics.append(get_lyrics(link))"
   ]
  },
  {
   "cell_type": "code",
   "execution_count": 10,
   "id": "45fce9fc",
   "metadata": {},
   "outputs": [],
   "source": [
    "#removing None's that were created as a result of using time function while scaping\n",
    "for i in adele_lyrics:\n",
    "    if i==None:\n",
    "        adele_lyrics.remove(i)\n",
    "\n",
    "for i in shakira_lyrics:\n",
    "    if i==None:\n",
    "        shakira_lyrics.remove(i)"
   ]
  },
  {
   "cell_type": "code",
   "execution_count": 12,
   "id": "77db2471",
   "metadata": {},
   "outputs": [],
   "source": [
    "#saving pre spacy files\n",
    "for element in adele_lyrics:\n",
    "      open(\"adele_songs_prespacy.txt\", \"a+\").write(element+\"\\n\")\n",
    "\n",
    "for element in shakira_lyrics:\n",
    "    open(\"shakira_songs_prespacy.txt\", \"a+\").write(element+\"\\n\")"
   ]
  },
  {
   "cell_type": "code",
   "execution_count": 13,
   "id": "a90582c6",
   "metadata": {},
   "outputs": [],
   "source": [
    "# Using Spacy to clean the data"
   ]
  },
  {
   "cell_type": "code",
   "execution_count": 14,
   "id": "5cd12eb7",
   "metadata": {},
   "outputs": [],
   "source": [
    "model = spacy.load('en_core_web_md')"
   ]
  },
  {
   "cell_type": "code",
   "execution_count": 15,
   "id": "c3bc48e5",
   "metadata": {},
   "outputs": [],
   "source": [
    "def clean_my_string(string):\n",
    "    \"\"\"use spacy to tokenize, lemmatize and remove stop words\"\"\"\n",
    "    clean_string = []\n",
    "    token_string = model(string)\n",
    "    for token in token_string:\n",
    "        if not token.is_stop and not token.is_punct and not token.like_num:\n",
    "            clean_string.append(token.lemma_)\n",
    "    return ' '.join(clean_string)"
   ]
  },
  {
   "cell_type": "code",
   "execution_count": 16,
   "id": "99ac2fa8",
   "metadata": {},
   "outputs": [],
   "source": [
    "clean_adele=[]\n",
    "for item in adele_lyrics: \n",
    "    item=clean_my_string(item)\n",
    "    clean_adele.append(item)"
   ]
  },
  {
   "cell_type": "code",
   "execution_count": 17,
   "id": "d84f2cc2",
   "metadata": {},
   "outputs": [],
   "source": [
    "clean_shakira=[]\n",
    "for item in shakira_lyrics:   \n",
    "    item=clean_my_string(item)\n",
    "    clean_shakira.append(item)"
   ]
  },
  {
   "cell_type": "code",
   "execution_count": 18,
   "id": "a7496b31",
   "metadata": {},
   "outputs": [
    {
     "name": "stdout",
     "output_type": "stream",
     "text": [
      "0 0\n",
      "2893 1598\n"
     ]
    }
   ],
   "source": [
    "#checking the difference in length after spacy cleaning\n",
    "print(len(adele_lyrics[0]),len(clean_adele[0]))\n",
    "print(len(shakira_lyrics[0]),len(clean_shakira[0]))"
   ]
  },
  {
   "cell_type": "code",
   "execution_count": 19,
   "id": "a7e9623f",
   "metadata": {},
   "outputs": [
    {
     "name": "stdout",
     "output_type": "stream",
     "text": [
      "410 1149\n"
     ]
    }
   ],
   "source": [
    "print(len(clean_adele),len(clean_shakira))"
   ]
  },
  {
   "cell_type": "code",
   "execution_count": 20,
   "id": "d01a9436",
   "metadata": {},
   "outputs": [],
   "source": [
    "#saving to pickles\n",
    "\n",
    "with open('clean_adele.pickle', 'wb') as file:\n",
    "    pickle.dump(clean_adele,file)\n",
    "with open('clean_shakira.pickle', 'wb') as file:\n",
    "    pickle.dump(clean_shakira, file) "
   ]
  },
  {
   "cell_type": "code",
   "execution_count": 21,
   "id": "94ca5c8c",
   "metadata": {},
   "outputs": [],
   "source": [
    "#loading pickled files\n",
    "\n",
    "with open('clean_adele.pickle', 'rb') as f:\n",
    "      clean_adele = pickle.load(f)\n",
    "with open('clean_shakira.pickle', 'rb') as f:\n",
    "      clean_shakira = pickle.load(f)"
   ]
  },
  {
   "cell_type": "code",
   "execution_count": 22,
   "id": "db5ca46b",
   "metadata": {},
   "outputs": [],
   "source": [
    "df1 = pd.DataFrame({'lyrics':clean_shakira, 'artist':0})"
   ]
  },
  {
   "cell_type": "code",
   "execution_count": 23,
   "id": "c26c03f3",
   "metadata": {},
   "outputs": [],
   "source": [
    "df2 = pd.DataFrame({'lyrics':clean_adele, 'artist':1})"
   ]
  },
  {
   "cell_type": "code",
   "execution_count": 24,
   "id": "52fc9ee5",
   "metadata": {},
   "outputs": [],
   "source": [
    "df = pd.concat([df1,df2])"
   ]
  },
  {
   "cell_type": "code",
   "execution_count": 25,
   "id": "7e82e3e5",
   "metadata": {},
   "outputs": [
    {
     "data": {
      "text/html": [
       "<div>\n",
       "<style scoped>\n",
       "    .dataframe tbody tr th:only-of-type {\n",
       "        vertical-align: middle;\n",
       "    }\n",
       "\n",
       "    .dataframe tbody tr th {\n",
       "        vertical-align: top;\n",
       "    }\n",
       "\n",
       "    .dataframe thead th {\n",
       "        text-align: right;\n",
       "    }\n",
       "</style>\n",
       "<table border=\"1\" class=\"dataframe\">\n",
       "  <thead>\n",
       "    <tr style=\"text-align: right;\">\n",
       "      <th></th>\n",
       "      <th>lyrics</th>\n",
       "      <th>artist</th>\n",
       "    </tr>\n",
       "  </thead>\n",
       "  <tbody>\n",
       "    <tr>\n",
       "      <th>0</th>\n",
       "      <td>lady tonight fighting get refugee fightin figh...</td>\n",
       "      <td>0</td>\n",
       "    </tr>\n",
       "    <tr>\n",
       "      <th>1</th>\n",
       "      <td>mi vida empezó cambiar la noche que te conocí ...</td>\n",
       "      <td>0</td>\n",
       "    </tr>\n",
       "    <tr>\n",
       "      <th>2</th>\n",
       "      <td>aquí estás ya puede detenerte dónde vas si est...</td>\n",
       "      <td>0</td>\n",
       "    </tr>\n",
       "    <tr>\n",
       "      <th>3</th>\n",
       "      <td>aquí estás ya puede detenerte dónde vas si est...</td>\n",
       "      <td>0</td>\n",
       "    </tr>\n",
       "    <tr>\n",
       "      <th>4</th>\n",
       "      <td>lady tonight fighting get refugee fightin figh...</td>\n",
       "      <td>0</td>\n",
       "    </tr>\n",
       "    <tr>\n",
       "      <th>...</th>\n",
       "      <td>...</td>\n",
       "      <td>...</td>\n",
       "    </tr>\n",
       "    <tr>\n",
       "      <th>405</th>\n",
       "      <td>change thong time day niagara fall pussy day p...</td>\n",
       "      <td>1</td>\n",
       "    </tr>\n",
       "    <tr>\n",
       "      <th>406</th>\n",
       "      <td>end hold breath count feel earth hear heart bu...</td>\n",
       "      <td>1</td>\n",
       "    </tr>\n",
       "    <tr>\n",
       "      <th>407</th>\n",
       "      <td>fire fire fire fire set fire fire oh oh set fi...</td>\n",
       "      <td>1</td>\n",
       "    </tr>\n",
       "    <tr>\n",
       "      <th>408</th>\n",
       "      <td>set fire let burn fire let fall heart fall ris...</td>\n",
       "      <td>1</td>\n",
       "    </tr>\n",
       "    <tr>\n",
       "      <th>409</th>\n",
       "      <td>let fall heart fall rise claim dark kiss lip s...</td>\n",
       "      <td>1</td>\n",
       "    </tr>\n",
       "  </tbody>\n",
       "</table>\n",
       "<p>1559 rows × 2 columns</p>\n",
       "</div>"
      ],
      "text/plain": [
       "                                                lyrics  artist\n",
       "0    lady tonight fighting get refugee fightin figh...       0\n",
       "1    mi vida empezó cambiar la noche que te conocí ...       0\n",
       "2    aquí estás ya puede detenerte dónde vas si est...       0\n",
       "3    aquí estás ya puede detenerte dónde vas si est...       0\n",
       "4    lady tonight fighting get refugee fightin figh...       0\n",
       "..                                                 ...     ...\n",
       "405  change thong time day niagara fall pussy day p...       1\n",
       "406  end hold breath count feel earth hear heart bu...       1\n",
       "407  fire fire fire fire set fire fire oh oh set fi...       1\n",
       "408  set fire let burn fire let fall heart fall ris...       1\n",
       "409  let fall heart fall rise claim dark kiss lip s...       1\n",
       "\n",
       "[1559 rows x 2 columns]"
      ]
     },
     "execution_count": 25,
     "metadata": {},
     "output_type": "execute_result"
    }
   ],
   "source": [
    "df"
   ]
  },
  {
   "cell_type": "code",
   "execution_count": 26,
   "id": "49d221b3",
   "metadata": {},
   "outputs": [],
   "source": [
    "#saving df\n",
    "pickle.dump(df, open('df.pkl',\"wb\"))"
   ]
  },
  {
   "cell_type": "code",
   "execution_count": 27,
   "id": "5ed80dec",
   "metadata": {},
   "outputs": [
    {
     "data": {
      "text/html": [
       "<div>\n",
       "<style scoped>\n",
       "    .dataframe tbody tr th:only-of-type {\n",
       "        vertical-align: middle;\n",
       "    }\n",
       "\n",
       "    .dataframe tbody tr th {\n",
       "        vertical-align: top;\n",
       "    }\n",
       "\n",
       "    .dataframe thead th {\n",
       "        text-align: right;\n",
       "    }\n",
       "</style>\n",
       "<table border=\"1\" class=\"dataframe\">\n",
       "  <thead>\n",
       "    <tr style=\"text-align: right;\">\n",
       "      <th></th>\n",
       "      <th>lyrics</th>\n",
       "      <th>artist</th>\n",
       "    </tr>\n",
       "  </thead>\n",
       "  <tbody>\n",
       "    <tr>\n",
       "      <th>0</th>\n",
       "      <td>lady tonight fighting get refugee fightin figh...</td>\n",
       "      <td>0</td>\n",
       "    </tr>\n",
       "    <tr>\n",
       "      <th>1</th>\n",
       "      <td>mi vida empezó cambiar la noche que te conocí ...</td>\n",
       "      <td>0</td>\n",
       "    </tr>\n",
       "    <tr>\n",
       "      <th>2</th>\n",
       "      <td>aquí estás ya puede detenerte dónde vas si est...</td>\n",
       "      <td>0</td>\n",
       "    </tr>\n",
       "    <tr>\n",
       "      <th>3</th>\n",
       "      <td>aquí estás ya puede detenerte dónde vas si est...</td>\n",
       "      <td>0</td>\n",
       "    </tr>\n",
       "    <tr>\n",
       "      <th>4</th>\n",
       "      <td>lady tonight fighting get refugee fightin figh...</td>\n",
       "      <td>0</td>\n",
       "    </tr>\n",
       "    <tr>\n",
       "      <th>...</th>\n",
       "      <td>...</td>\n",
       "      <td>...</td>\n",
       "    </tr>\n",
       "    <tr>\n",
       "      <th>405</th>\n",
       "      <td>change thong time day niagara fall pussy day p...</td>\n",
       "      <td>1</td>\n",
       "    </tr>\n",
       "    <tr>\n",
       "      <th>406</th>\n",
       "      <td>end hold breath count feel earth hear heart bu...</td>\n",
       "      <td>1</td>\n",
       "    </tr>\n",
       "    <tr>\n",
       "      <th>407</th>\n",
       "      <td>fire fire fire fire set fire fire oh oh set fi...</td>\n",
       "      <td>1</td>\n",
       "    </tr>\n",
       "    <tr>\n",
       "      <th>408</th>\n",
       "      <td>set fire let burn fire let fall heart fall ris...</td>\n",
       "      <td>1</td>\n",
       "    </tr>\n",
       "    <tr>\n",
       "      <th>409</th>\n",
       "      <td>let fall heart fall rise claim dark kiss lip s...</td>\n",
       "      <td>1</td>\n",
       "    </tr>\n",
       "  </tbody>\n",
       "</table>\n",
       "<p>1559 rows × 2 columns</p>\n",
       "</div>"
      ],
      "text/plain": [
       "                                                lyrics  artist\n",
       "0    lady tonight fighting get refugee fightin figh...       0\n",
       "1    mi vida empezó cambiar la noche que te conocí ...       0\n",
       "2    aquí estás ya puede detenerte dónde vas si est...       0\n",
       "3    aquí estás ya puede detenerte dónde vas si est...       0\n",
       "4    lady tonight fighting get refugee fightin figh...       0\n",
       "..                                                 ...     ...\n",
       "405  change thong time day niagara fall pussy day p...       1\n",
       "406  end hold breath count feel earth hear heart bu...       1\n",
       "407  fire fire fire fire set fire fire oh oh set fi...       1\n",
       "408  set fire let burn fire let fall heart fall ris...       1\n",
       "409  let fall heart fall rise claim dark kiss lip s...       1\n",
       "\n",
       "[1559 rows x 2 columns]"
      ]
     },
     "execution_count": 27,
     "metadata": {},
     "output_type": "execute_result"
    }
   ],
   "source": [
    "#reading saved df\n",
    "df=pd.read_pickle('df.pkl')\n",
    "df"
   ]
  },
  {
   "cell_type": "code",
   "execution_count": 28,
   "id": "4543f0d1",
   "metadata": {},
   "outputs": [],
   "source": [
    "def clean_text_final(text):\n",
    "    'remove words containing numbers'\n",
    "    text = re.sub('\\w*\\d\\w*', '', text)\n",
    "    return text"
   ]
  },
  {
   "cell_type": "code",
   "execution_count": 29,
   "id": "aafd6e70",
   "metadata": {},
   "outputs": [],
   "source": [
    "df['lyrics'] = df['lyrics'].apply(clean_text_final)"
   ]
  },
  {
   "cell_type": "code",
   "execution_count": 30,
   "id": "a8565373",
   "metadata": {},
   "outputs": [],
   "source": [
    "#splitting the data\n",
    "X,y = df['lyrics'],df['artist']"
   ]
  },
  {
   "cell_type": "code",
   "execution_count": 31,
   "id": "b7a2fb2a",
   "metadata": {},
   "outputs": [],
   "source": [
    "X_train, X_test, y_train, y_test = train_test_split(X, y, random_state=42)"
   ]
  },
  {
   "cell_type": "code",
   "execution_count": 32,
   "id": "1b5bef52",
   "metadata": {},
   "outputs": [
    {
     "data": {
      "text/plain": [
       "((1169,), (1169,))"
      ]
     },
     "execution_count": 32,
     "metadata": {},
     "output_type": "execute_result"
    }
   ],
   "source": [
    "X_train.shape, y_train.shape"
   ]
  },
  {
   "cell_type": "code",
   "execution_count": 33,
   "id": "3432de29",
   "metadata": {},
   "outputs": [],
   "source": [
    "tf = TfidfVectorizer()"
   ]
  },
  {
   "cell_type": "code",
   "execution_count": 34,
   "id": "d3f65957",
   "metadata": {},
   "outputs": [
    {
     "data": {
      "text/plain": [
       "<1169x5003 sparse matrix of type '<class 'numpy.float64'>'\n",
       "\twith 80723 stored elements in Compressed Sparse Row format>"
      ]
     },
     "execution_count": 34,
     "metadata": {},
     "output_type": "execute_result"
    }
   ],
   "source": [
    "vectorized_lyrics=tf.fit_transform(X_train)  #creating sparse matrix\n",
    "vectorized_lyrics"
   ]
  },
  {
   "cell_type": "code",
   "execution_count": 35,
   "id": "9e533c1d",
   "metadata": {},
   "outputs": [],
   "source": [
    "pickle.dump(tf, open('tf.pkl','wb'))   # saving for later use in Command-Line Interface"
   ]
  },
  {
   "cell_type": "code",
   "execution_count": 36,
   "id": "b9274998",
   "metadata": {},
   "outputs": [],
   "source": [
    "#transforming X_test\n",
    "X_test_trans = tf.transform(X_test).toarray()"
   ]
  },
  {
   "cell_type": "code",
   "execution_count": 37,
   "id": "47c0289f",
   "metadata": {},
   "outputs": [
    {
     "name": "stderr",
     "output_type": "stream",
     "text": [
      "C:\\Users\\49172\\anaconda3\\lib\\site-packages\\sklearn\\utils\\deprecation.py:87: FutureWarning: Function get_feature_names is deprecated; get_feature_names is deprecated in 1.0 and will be removed in 1.2. Please use get_feature_names_out instead.\n",
      "  warnings.warn(msg, category=FutureWarning)\n"
     ]
    }
   ],
   "source": [
    "# converting sparse matrix into a dense matrix to view it effectively\n",
    "tf_vectors = pd.DataFrame(vectorized_lyrics.todense().round(2), columns=tf.get_feature_names())  #index=X"
   ]
  },
  {
   "cell_type": "code",
   "execution_count": 38,
   "id": "743ee2fd",
   "metadata": {},
   "outputs": [
    {
     "data": {
      "text/html": [
       "<div>\n",
       "<style scoped>\n",
       "    .dataframe tbody tr th:only-of-type {\n",
       "        vertical-align: middle;\n",
       "    }\n",
       "\n",
       "    .dataframe tbody tr th {\n",
       "        vertical-align: top;\n",
       "    }\n",
       "\n",
       "    .dataframe thead th {\n",
       "        text-align: right;\n",
       "    }\n",
       "</style>\n",
       "<table border=\"1\" class=\"dataframe\">\n",
       "  <thead>\n",
       "    <tr style=\"text-align: right;\">\n",
       "      <th></th>\n",
       "      <th>aa</th>\n",
       "      <th>aah</th>\n",
       "      <th>abajo</th>\n",
       "      <th>abandonado</th>\n",
       "      <th>abecedario</th>\n",
       "      <th>ability</th>\n",
       "      <th>able</th>\n",
       "      <th>abra</th>\n",
       "      <th>abrazando</th>\n",
       "      <th>abrazarte</th>\n",
       "      <th>...</th>\n",
       "      <th>éste</th>\n",
       "      <th>étais</th>\n",
       "      <th>étouffé</th>\n",
       "      <th>être</th>\n",
       "      <th>íto</th>\n",
       "      <th>óyeme</th>\n",
       "      <th>últimamente</th>\n",
       "      <th>única</th>\n",
       "      <th>único</th>\n",
       "      <th>útil</th>\n",
       "    </tr>\n",
       "  </thead>\n",
       "  <tbody>\n",
       "    <tr>\n",
       "      <th>0</th>\n",
       "      <td>0.0</td>\n",
       "      <td>0.0</td>\n",
       "      <td>0.0</td>\n",
       "      <td>0.00</td>\n",
       "      <td>0.0</td>\n",
       "      <td>0.0</td>\n",
       "      <td>0.0</td>\n",
       "      <td>0.0</td>\n",
       "      <td>0.0</td>\n",
       "      <td>0.0</td>\n",
       "      <td>...</td>\n",
       "      <td>0.0</td>\n",
       "      <td>0.0</td>\n",
       "      <td>0.0</td>\n",
       "      <td>0.0</td>\n",
       "      <td>0.0</td>\n",
       "      <td>0.0</td>\n",
       "      <td>0.0</td>\n",
       "      <td>0.0</td>\n",
       "      <td>0.0</td>\n",
       "      <td>0.0</td>\n",
       "    </tr>\n",
       "    <tr>\n",
       "      <th>1</th>\n",
       "      <td>0.0</td>\n",
       "      <td>0.0</td>\n",
       "      <td>0.0</td>\n",
       "      <td>0.00</td>\n",
       "      <td>0.0</td>\n",
       "      <td>0.0</td>\n",
       "      <td>0.0</td>\n",
       "      <td>0.0</td>\n",
       "      <td>0.0</td>\n",
       "      <td>0.0</td>\n",
       "      <td>...</td>\n",
       "      <td>0.0</td>\n",
       "      <td>0.0</td>\n",
       "      <td>0.0</td>\n",
       "      <td>0.0</td>\n",
       "      <td>0.0</td>\n",
       "      <td>0.0</td>\n",
       "      <td>0.0</td>\n",
       "      <td>0.0</td>\n",
       "      <td>0.0</td>\n",
       "      <td>0.0</td>\n",
       "    </tr>\n",
       "    <tr>\n",
       "      <th>2</th>\n",
       "      <td>0.0</td>\n",
       "      <td>0.0</td>\n",
       "      <td>0.0</td>\n",
       "      <td>0.00</td>\n",
       "      <td>0.0</td>\n",
       "      <td>0.0</td>\n",
       "      <td>0.0</td>\n",
       "      <td>0.0</td>\n",
       "      <td>0.0</td>\n",
       "      <td>0.0</td>\n",
       "      <td>...</td>\n",
       "      <td>0.0</td>\n",
       "      <td>0.0</td>\n",
       "      <td>0.0</td>\n",
       "      <td>0.0</td>\n",
       "      <td>0.0</td>\n",
       "      <td>0.0</td>\n",
       "      <td>0.0</td>\n",
       "      <td>0.0</td>\n",
       "      <td>0.0</td>\n",
       "      <td>0.0</td>\n",
       "    </tr>\n",
       "    <tr>\n",
       "      <th>3</th>\n",
       "      <td>0.0</td>\n",
       "      <td>0.0</td>\n",
       "      <td>0.0</td>\n",
       "      <td>0.00</td>\n",
       "      <td>0.0</td>\n",
       "      <td>0.0</td>\n",
       "      <td>0.0</td>\n",
       "      <td>0.0</td>\n",
       "      <td>0.0</td>\n",
       "      <td>0.0</td>\n",
       "      <td>...</td>\n",
       "      <td>0.0</td>\n",
       "      <td>0.0</td>\n",
       "      <td>0.0</td>\n",
       "      <td>0.0</td>\n",
       "      <td>0.0</td>\n",
       "      <td>0.0</td>\n",
       "      <td>0.0</td>\n",
       "      <td>0.0</td>\n",
       "      <td>0.0</td>\n",
       "      <td>0.0</td>\n",
       "    </tr>\n",
       "    <tr>\n",
       "      <th>4</th>\n",
       "      <td>0.0</td>\n",
       "      <td>0.0</td>\n",
       "      <td>0.0</td>\n",
       "      <td>0.00</td>\n",
       "      <td>0.0</td>\n",
       "      <td>0.0</td>\n",
       "      <td>0.0</td>\n",
       "      <td>0.0</td>\n",
       "      <td>0.0</td>\n",
       "      <td>0.0</td>\n",
       "      <td>...</td>\n",
       "      <td>0.0</td>\n",
       "      <td>0.0</td>\n",
       "      <td>0.0</td>\n",
       "      <td>0.0</td>\n",
       "      <td>0.0</td>\n",
       "      <td>0.0</td>\n",
       "      <td>0.0</td>\n",
       "      <td>0.0</td>\n",
       "      <td>0.0</td>\n",
       "      <td>0.0</td>\n",
       "    </tr>\n",
       "    <tr>\n",
       "      <th>...</th>\n",
       "      <td>...</td>\n",
       "      <td>...</td>\n",
       "      <td>...</td>\n",
       "      <td>...</td>\n",
       "      <td>...</td>\n",
       "      <td>...</td>\n",
       "      <td>...</td>\n",
       "      <td>...</td>\n",
       "      <td>...</td>\n",
       "      <td>...</td>\n",
       "      <td>...</td>\n",
       "      <td>...</td>\n",
       "      <td>...</td>\n",
       "      <td>...</td>\n",
       "      <td>...</td>\n",
       "      <td>...</td>\n",
       "      <td>...</td>\n",
       "      <td>...</td>\n",
       "      <td>...</td>\n",
       "      <td>...</td>\n",
       "      <td>...</td>\n",
       "    </tr>\n",
       "    <tr>\n",
       "      <th>1164</th>\n",
       "      <td>0.0</td>\n",
       "      <td>0.0</td>\n",
       "      <td>0.0</td>\n",
       "      <td>0.00</td>\n",
       "      <td>0.0</td>\n",
       "      <td>0.0</td>\n",
       "      <td>0.0</td>\n",
       "      <td>0.0</td>\n",
       "      <td>0.0</td>\n",
       "      <td>0.0</td>\n",
       "      <td>...</td>\n",
       "      <td>0.0</td>\n",
       "      <td>0.0</td>\n",
       "      <td>0.0</td>\n",
       "      <td>0.0</td>\n",
       "      <td>0.0</td>\n",
       "      <td>0.0</td>\n",
       "      <td>0.0</td>\n",
       "      <td>0.0</td>\n",
       "      <td>0.0</td>\n",
       "      <td>0.0</td>\n",
       "    </tr>\n",
       "    <tr>\n",
       "      <th>1165</th>\n",
       "      <td>0.0</td>\n",
       "      <td>0.0</td>\n",
       "      <td>0.0</td>\n",
       "      <td>0.00</td>\n",
       "      <td>0.0</td>\n",
       "      <td>0.0</td>\n",
       "      <td>0.0</td>\n",
       "      <td>0.0</td>\n",
       "      <td>0.0</td>\n",
       "      <td>0.0</td>\n",
       "      <td>...</td>\n",
       "      <td>0.0</td>\n",
       "      <td>0.0</td>\n",
       "      <td>0.0</td>\n",
       "      <td>0.0</td>\n",
       "      <td>0.0</td>\n",
       "      <td>0.0</td>\n",
       "      <td>0.0</td>\n",
       "      <td>0.0</td>\n",
       "      <td>0.0</td>\n",
       "      <td>0.0</td>\n",
       "    </tr>\n",
       "    <tr>\n",
       "      <th>1166</th>\n",
       "      <td>0.0</td>\n",
       "      <td>0.0</td>\n",
       "      <td>0.0</td>\n",
       "      <td>0.05</td>\n",
       "      <td>0.0</td>\n",
       "      <td>0.0</td>\n",
       "      <td>0.0</td>\n",
       "      <td>0.0</td>\n",
       "      <td>0.0</td>\n",
       "      <td>0.0</td>\n",
       "      <td>...</td>\n",
       "      <td>0.0</td>\n",
       "      <td>0.0</td>\n",
       "      <td>0.0</td>\n",
       "      <td>0.0</td>\n",
       "      <td>0.0</td>\n",
       "      <td>0.0</td>\n",
       "      <td>0.0</td>\n",
       "      <td>0.0</td>\n",
       "      <td>0.0</td>\n",
       "      <td>0.0</td>\n",
       "    </tr>\n",
       "    <tr>\n",
       "      <th>1167</th>\n",
       "      <td>0.0</td>\n",
       "      <td>0.0</td>\n",
       "      <td>0.0</td>\n",
       "      <td>0.00</td>\n",
       "      <td>0.0</td>\n",
       "      <td>0.0</td>\n",
       "      <td>0.0</td>\n",
       "      <td>0.0</td>\n",
       "      <td>0.0</td>\n",
       "      <td>0.0</td>\n",
       "      <td>...</td>\n",
       "      <td>0.0</td>\n",
       "      <td>0.0</td>\n",
       "      <td>0.0</td>\n",
       "      <td>0.0</td>\n",
       "      <td>0.0</td>\n",
       "      <td>0.0</td>\n",
       "      <td>0.0</td>\n",
       "      <td>0.0</td>\n",
       "      <td>0.0</td>\n",
       "      <td>0.0</td>\n",
       "    </tr>\n",
       "    <tr>\n",
       "      <th>1168</th>\n",
       "      <td>0.0</td>\n",
       "      <td>0.0</td>\n",
       "      <td>0.0</td>\n",
       "      <td>0.00</td>\n",
       "      <td>0.0</td>\n",
       "      <td>0.0</td>\n",
       "      <td>0.0</td>\n",
       "      <td>0.0</td>\n",
       "      <td>0.0</td>\n",
       "      <td>0.0</td>\n",
       "      <td>...</td>\n",
       "      <td>0.0</td>\n",
       "      <td>0.0</td>\n",
       "      <td>0.0</td>\n",
       "      <td>0.0</td>\n",
       "      <td>0.0</td>\n",
       "      <td>0.0</td>\n",
       "      <td>0.0</td>\n",
       "      <td>0.0</td>\n",
       "      <td>0.0</td>\n",
       "      <td>0.0</td>\n",
       "    </tr>\n",
       "  </tbody>\n",
       "</table>\n",
       "<p>1169 rows × 5003 columns</p>\n",
       "</div>"
      ],
      "text/plain": [
       "       aa  aah  abajo  abandonado  abecedario  ability  able  abra  abrazando  \\\n",
       "0     0.0  0.0    0.0        0.00         0.0      0.0   0.0   0.0        0.0   \n",
       "1     0.0  0.0    0.0        0.00         0.0      0.0   0.0   0.0        0.0   \n",
       "2     0.0  0.0    0.0        0.00         0.0      0.0   0.0   0.0        0.0   \n",
       "3     0.0  0.0    0.0        0.00         0.0      0.0   0.0   0.0        0.0   \n",
       "4     0.0  0.0    0.0        0.00         0.0      0.0   0.0   0.0        0.0   \n",
       "...   ...  ...    ...         ...         ...      ...   ...   ...        ...   \n",
       "1164  0.0  0.0    0.0        0.00         0.0      0.0   0.0   0.0        0.0   \n",
       "1165  0.0  0.0    0.0        0.00         0.0      0.0   0.0   0.0        0.0   \n",
       "1166  0.0  0.0    0.0        0.05         0.0      0.0   0.0   0.0        0.0   \n",
       "1167  0.0  0.0    0.0        0.00         0.0      0.0   0.0   0.0        0.0   \n",
       "1168  0.0  0.0    0.0        0.00         0.0      0.0   0.0   0.0        0.0   \n",
       "\n",
       "      abrazarte  ...  éste  étais  étouffé  être  íto  óyeme  últimamente  \\\n",
       "0           0.0  ...   0.0    0.0      0.0   0.0  0.0    0.0          0.0   \n",
       "1           0.0  ...   0.0    0.0      0.0   0.0  0.0    0.0          0.0   \n",
       "2           0.0  ...   0.0    0.0      0.0   0.0  0.0    0.0          0.0   \n",
       "3           0.0  ...   0.0    0.0      0.0   0.0  0.0    0.0          0.0   \n",
       "4           0.0  ...   0.0    0.0      0.0   0.0  0.0    0.0          0.0   \n",
       "...         ...  ...   ...    ...      ...   ...  ...    ...          ...   \n",
       "1164        0.0  ...   0.0    0.0      0.0   0.0  0.0    0.0          0.0   \n",
       "1165        0.0  ...   0.0    0.0      0.0   0.0  0.0    0.0          0.0   \n",
       "1166        0.0  ...   0.0    0.0      0.0   0.0  0.0    0.0          0.0   \n",
       "1167        0.0  ...   0.0    0.0      0.0   0.0  0.0    0.0          0.0   \n",
       "1168        0.0  ...   0.0    0.0      0.0   0.0  0.0    0.0          0.0   \n",
       "\n",
       "      única  único  útil  \n",
       "0       0.0    0.0   0.0  \n",
       "1       0.0    0.0   0.0  \n",
       "2       0.0    0.0   0.0  \n",
       "3       0.0    0.0   0.0  \n",
       "4       0.0    0.0   0.0  \n",
       "...     ...    ...   ...  \n",
       "1164    0.0    0.0   0.0  \n",
       "1165    0.0    0.0   0.0  \n",
       "1166    0.0    0.0   0.0  \n",
       "1167    0.0    0.0   0.0  \n",
       "1168    0.0    0.0   0.0  \n",
       "\n",
       "[1169 rows x 5003 columns]"
      ]
     },
     "execution_count": 38,
     "metadata": {},
     "output_type": "execute_result"
    }
   ],
   "source": [
    "tf_vectors"
   ]
  },
  {
   "cell_type": "code",
   "execution_count": 40,
   "id": "07f4bc1a",
   "metadata": {},
   "outputs": [],
   "source": [
    "def print_evaluations(X_test,y_test, model):\n",
    "    \"\"\"Model evaluation metrics\"\"\"\n",
    "    y_pred=model.predict(X_test)\n",
    "\n",
    "    print(f'Accuracy: {round(accuracy_score(y_test, y_pred), 3)}')\n",
    "    print(f'Precision: {round(precision_score(y_test, y_pred), 3)}')\n",
    "    print(f'Recall: {round(recall_score(y_test, y_pred), 3)}')\n",
    "    print(f'F1-score: {round(f1_score(y_test, y_pred), 3)}')\n",
    "    plot_confusion_matrix(model, X_test, y_test,cmap=plt.cm.Blues,display_labels=['Shakira', 'Adele'])"
   ]
  },
  {
   "cell_type": "markdown",
   "id": "37205a2d",
   "metadata": {},
   "source": [
    "## Logistic Regression"
   ]
  },
  {
   "cell_type": "code",
   "execution_count": 41,
   "id": "271d6c45",
   "metadata": {},
   "outputs": [
    {
     "name": "stdout",
     "output_type": "stream",
     "text": [
      "Train score : 0.9700598802395209\n"
     ]
    }
   ],
   "source": [
    "model = LogisticRegression()\n",
    "model.fit(tf_vectors,y_train)\n",
    "print(\"Train score :\",model.score(tf_vectors,y_train))"
   ]
  },
  {
   "cell_type": "code",
   "execution_count": 42,
   "id": "bca733e8",
   "metadata": {},
   "outputs": [
    {
     "name": "stderr",
     "output_type": "stream",
     "text": [
      "C:\\Users\\49172\\anaconda3\\lib\\site-packages\\sklearn\\base.py:450: UserWarning: X does not have valid feature names, but LogisticRegression was fitted with feature names\n",
      "  warnings.warn(\n"
     ]
    }
   ],
   "source": [
    "acc_log = round(model.score(X_test_trans,y_test),3) #saving for later model comparison"
   ]
  },
  {
   "cell_type": "code",
   "execution_count": 43,
   "id": "80928ab6",
   "metadata": {},
   "outputs": [
    {
     "name": "stdout",
     "output_type": "stream",
     "text": [
      "Cross-validation score : 0.9537947984299915\n"
     ]
    }
   ],
   "source": [
    "accuracy = cross_val_score(model,tf_vectors,y_train)\n",
    "print(\"Cross-validation score :\", accuracy.mean())"
   ]
  },
  {
   "cell_type": "code",
   "execution_count": 73,
   "id": "884a7f56",
   "metadata": {},
   "outputs": [
    {
     "name": "stdout",
     "output_type": "stream",
     "text": [
      "[0]\n"
     ]
    }
   ],
   "source": [
    "#testing one song\n",
    "test_song = [\"Le ro lo le lo le, le ro lo le lo le, Can't you see?, I'm at your feet\"]\n",
    "test = tf.transform(test_song)\n",
    "print(model.predict(test))"
   ]
  },
  {
   "cell_type": "code",
   "execution_count": 45,
   "id": "e11e5eb3",
   "metadata": {},
   "outputs": [
    {
     "name": "stdout",
     "output_type": "stream",
     "text": [
      "Accuracy: 0.951\n",
      "Precision: 1.0\n",
      "Recall: 0.808\n",
      "F1-score: 0.894\n"
     ]
    },
    {
     "name": "stderr",
     "output_type": "stream",
     "text": [
      "C:\\Users\\49172\\anaconda3\\lib\\site-packages\\sklearn\\utils\\deprecation.py:87: FutureWarning: Function plot_confusion_matrix is deprecated; Function `plot_confusion_matrix` is deprecated in 1.0 and will be removed in 1.2. Use one of the class methods: ConfusionMatrixDisplay.from_predictions or ConfusionMatrixDisplay.from_estimator.\n",
      "  warnings.warn(msg, category=FutureWarning)\n",
      "C:\\Users\\49172\\anaconda3\\lib\\site-packages\\sklearn\\base.py:450: UserWarning: X does not have valid feature names, but LogisticRegression was fitted with feature names\n",
      "  warnings.warn(\n"
     ]
    },
    {
     "data": {
      "image/png": "[encoded data removed]",
      "text/plain": [
       "<Figure size 640x480 with 2 Axes>"
      ]
     },
     "metadata": {},
     "output_type": "display_data"
    }
   ],
   "source": [
    "print_evaluations(X_test_trans, y_test, model)"
   ]
  },
  {
   "cell_type": "markdown",
   "id": "64b8dace",
   "metadata": {},
   "source": [
    "## Naive Bayes"
   ]
  },
  {
   "cell_type": "code",
   "execution_count": 46,
   "id": "e6e9bf5d",
   "metadata": {},
   "outputs": [
    {
     "name": "stdout",
     "output_type": "stream",
     "text": [
      "Train score : 0.9615055603079555\n"
     ]
    }
   ],
   "source": [
    "from sklearn.naive_bayes import MultinomialNB\n",
    "nb = MultinomialNB()\n",
    "nb.fit(tf_vectors,y_train)\n",
    "print(\"Train score :\",nb.score(tf_vectors,y_train))"
   ]
  },
  {
   "cell_type": "code",
   "execution_count": 47,
   "id": "ecd1d7d9",
   "metadata": {},
   "outputs": [
    {
     "name": "stderr",
     "output_type": "stream",
     "text": [
      "C:\\Users\\49172\\anaconda3\\lib\\site-packages\\sklearn\\base.py:450: UserWarning: X does not have valid feature names, but MultinomialNB was fitted with feature names\n",
      "  warnings.warn(\n"
     ]
    }
   ],
   "source": [
    "acc_nb=round(nb.score(X_test_trans,y_test),3) #saving for later model comparison"
   ]
  },
  {
   "cell_type": "code",
   "execution_count": 49,
   "id": "74a70745",
   "metadata": {},
   "outputs": [
    {
     "name": "stdout",
     "output_type": "stream",
     "text": [
      "Cross-Validation Score : 0.95379113018598\n"
     ]
    }
   ],
   "source": [
    "accuracy=cross_val_score(nb,tf_vectors,y_train)\n",
    "print(\"Cross-Validation Score :\", accuracy.mean())"
   ]
  },
  {
   "cell_type": "code",
   "execution_count": 50,
   "id": "225f97d1",
   "metadata": {},
   "outputs": [
    {
     "name": "stdout",
     "output_type": "stream",
     "text": [
      "Accuracy: 0.944\n",
      "Precision: 0.897\n",
      "Recall: 0.879\n",
      "F1-score: 0.888\n"
     ]
    },
    {
     "name": "stderr",
     "output_type": "stream",
     "text": [
      "C:\\Users\\49172\\anaconda3\\lib\\site-packages\\sklearn\\base.py:450: UserWarning: X does not have valid feature names, but MultinomialNB was fitted with feature names\n",
      "  warnings.warn(\n",
      "C:\\Users\\49172\\anaconda3\\lib\\site-packages\\sklearn\\utils\\deprecation.py:87: FutureWarning: Function plot_confusion_matrix is deprecated; Function `plot_confusion_matrix` is deprecated in 1.0 and will be removed in 1.2. Use one of the class methods: ConfusionMatrixDisplay.from_predictions or ConfusionMatrixDisplay.from_estimator.\n",
      "  warnings.warn(msg, category=FutureWarning)\n",
      "C:\\Users\\49172\\anaconda3\\lib\\site-packages\\sklearn\\base.py:450: UserWarning: X does not have valid feature names, but MultinomialNB was fitted with feature names\n",
      "  warnings.warn(\n"
     ]
    },
    {
     "data": {
      "image/png": "[encoded data removed]",
      "text/plain": [
       "<Figure size 640x480 with 2 Axes>"
      ]
     },
     "metadata": {},
     "output_type": "display_data"
    }
   ],
   "source": [
    "print_evaluations(X_test_trans, y_test, nb)"
   ]
  },
  {
   "cell_type": "markdown",
   "id": "b804f586",
   "metadata": {},
   "source": [
    "## SVM"
   ]
  },
  {
   "cell_type": "code",
   "execution_count": 51,
   "id": "9e17984b",
   "metadata": {},
   "outputs": [
    {
     "name": "stdout",
     "output_type": "stream",
     "text": [
      "Train score : 0.9769033361847733\n"
     ]
    }
   ],
   "source": [
    "svm_clf = svm.SVC(kernel='linear')\n",
    "svm_clf.fit(tf_vectors,y_train)\n",
    "print(\"Train score :\",svm_clf.score(tf_vectors,y_train))"
   ]
  },
  {
   "cell_type": "code",
   "execution_count": 52,
   "id": "40dc5afb",
   "metadata": {},
   "outputs": [
    {
     "name": "stderr",
     "output_type": "stream",
     "text": [
      "C:\\Users\\49172\\anaconda3\\lib\\site-packages\\sklearn\\base.py:450: UserWarning: X does not have valid feature names, but SVC was fitted with feature names\n",
      "  warnings.warn(\n"
     ]
    }
   ],
   "source": [
    "acc_svm=round(svm_clf.score(X_test_trans,y_test),3) #saving for later model comparison"
   ]
  },
  {
   "cell_type": "code",
   "execution_count": 53,
   "id": "9bf57a20",
   "metadata": {},
   "outputs": [
    {
     "name": "stdout",
     "output_type": "stream",
     "text": [
      "Cross-validation score : 0.9580756391915191\n"
     ]
    }
   ],
   "source": [
    "accuracy=cross_val_score(svm_clf,tf_vectors,y_train)\n",
    "print(\"Cross-validation score :\", accuracy.mean())"
   ]
  },
  {
   "cell_type": "code",
   "execution_count": 54,
   "id": "6da03f5f",
   "metadata": {},
   "outputs": [
    {
     "name": "stderr",
     "output_type": "stream",
     "text": [
      "C:\\Users\\49172\\anaconda3\\lib\\site-packages\\sklearn\\base.py:450: UserWarning: X does not have valid feature names, but SVC was fitted with feature names\n",
      "  warnings.warn(\n",
      "C:\\Users\\49172\\anaconda3\\lib\\site-packages\\sklearn\\utils\\deprecation.py:87: FutureWarning: Function plot_confusion_matrix is deprecated; Function `plot_confusion_matrix` is deprecated in 1.0 and will be removed in 1.2. Use one of the class methods: ConfusionMatrixDisplay.from_predictions or ConfusionMatrixDisplay.from_estimator.\n",
      "  warnings.warn(msg, category=FutureWarning)\n",
      "C:\\Users\\49172\\anaconda3\\lib\\site-packages\\sklearn\\base.py:450: UserWarning: X does not have valid feature names, but SVC was fitted with feature names\n",
      "  warnings.warn(\n"
     ]
    },
    {
     "name": "stdout",
     "output_type": "stream",
     "text": [
      "Accuracy: 0.956\n",
      "Precision: 0.977\n",
      "Recall: 0.848\n",
      "F1-score: 0.908\n"
     ]
    },
    {
     "data": {
      "image/png": "[encoded data removed]",
      "text/plain": [
       "<Figure size 640x480 with 2 Axes>"
      ]
     },
     "metadata": {},
     "output_type": "display_data"
    }
   ],
   "source": [
    "print_evaluations(X_test_trans, y_test, svm_clf)"
   ]
  },
  {
   "cell_type": "markdown",
   "id": "01e72afe",
   "metadata": {},
   "source": [
    "## Random Forest"
   ]
  },
  {
   "cell_type": "code",
   "execution_count": 55,
   "id": "f74c0ceb",
   "metadata": {},
   "outputs": [],
   "source": [
    "forest = RandomForestClassifier()"
   ]
  },
  {
   "cell_type": "code",
   "execution_count": 56,
   "id": "94caa6e8",
   "metadata": {},
   "outputs": [],
   "source": [
    "from tqdm import tqdm_notebook\n",
    "from tqdm.notebook import tqdm"
   ]
  },
  {
   "cell_type": "code",
   "execution_count": 57,
   "id": "afc226fb",
   "metadata": {},
   "outputs": [
    {
     "name": "stdout",
     "output_type": "stream",
     "text": [
      "Fitting 5 folds for each of 20 candidates, totalling 100 fits\n"
     ]
    },
    {
     "data": {
      "text/plain": [
       "({'max_depth': 52}, 0.9649095777851142)"
      ]
     },
     "execution_count": 57,
     "metadata": {},
     "output_type": "execute_result"
    }
   ],
   "source": [
    "#searching for best max_depth\n",
    "forest_params = {\"max_depth\": range(50,70)}\n",
    "\n",
    "forest_grid = GridSearchCV(forest, forest_params, cv=5, verbose=True)\n",
    "\n",
    "forest_grid.fit(tf_vectors,y_train)\n",
    "\n",
    "forest_grid.best_params_, forest_grid.best_score_ "
   ]
  },
  {
   "cell_type": "code",
   "execution_count": 58,
   "id": "cc5b402a",
   "metadata": {},
   "outputs": [],
   "source": [
    "forest = RandomForestClassifier(n_estimators=100, max_depth=52)"
   ]
  },
  {
   "cell_type": "code",
   "execution_count": 59,
   "id": "782b5aba",
   "metadata": {},
   "outputs": [
    {
     "name": "stdout",
     "output_type": "stream",
     "text": [
      "Train score : 0.9786142001710864\n"
     ]
    }
   ],
   "source": [
    "forest.fit(tf_vectors,y_train)\n",
    "print(\"Train score :\",forest.score(tf_vectors,y_train))"
   ]
  },
  {
   "cell_type": "code",
   "execution_count": 60,
   "id": "6dc18aab",
   "metadata": {},
   "outputs": [],
   "source": [
    "pickle.dump(forest, open('rf_clf.pkl', 'wb')) # saving for later use in Command-Line Interface"
   ]
  },
  {
   "cell_type": "code",
   "execution_count": 61,
   "id": "c4f48d26",
   "metadata": {},
   "outputs": [
    {
     "name": "stderr",
     "output_type": "stream",
     "text": [
      "C:\\Users\\49172\\anaconda3\\lib\\site-packages\\sklearn\\base.py:450: UserWarning: X does not have valid feature names, but RandomForestClassifier was fitted with feature names\n",
      "  warnings.warn(\n"
     ]
    }
   ],
   "source": [
    "acc_rf=round(forest.score(X_test_trans,y_test),3)  #saving for later model comparison"
   ]
  },
  {
   "cell_type": "code",
   "execution_count": 62,
   "id": "d1d5d4ce",
   "metadata": {},
   "outputs": [
    {
     "name": "stdout",
     "output_type": "stream",
     "text": [
      "Cross-validation score : 0.9632111808077474\n"
     ]
    }
   ],
   "source": [
    "accuracy=cross_val_score(forest,tf_vectors,y_train)\n",
    "print(\"Cross-validation score :\", accuracy.mean())"
   ]
  },
  {
   "cell_type": "code",
   "execution_count": 63,
   "id": "35cdc59b",
   "metadata": {},
   "outputs": [
    {
     "name": "stdout",
     "output_type": "stream",
     "text": [
      "Accuracy: 0.962\n",
      "Precision: 0.977\n",
      "Recall: 0.869\n",
      "F1-score: 0.92\n"
     ]
    },
    {
     "name": "stderr",
     "output_type": "stream",
     "text": [
      "C:\\Users\\49172\\anaconda3\\lib\\site-packages\\sklearn\\base.py:450: UserWarning: X does not have valid feature names, but RandomForestClassifier was fitted with feature names\n",
      "  warnings.warn(\n",
      "C:\\Users\\49172\\anaconda3\\lib\\site-packages\\sklearn\\utils\\deprecation.py:87: FutureWarning: Function plot_confusion_matrix is deprecated; Function `plot_confusion_matrix` is deprecated in 1.0 and will be removed in 1.2. Use one of the class methods: ConfusionMatrixDisplay.from_predictions or ConfusionMatrixDisplay.from_estimator.\n",
      "  warnings.warn(msg, category=FutureWarning)\n",
      "C:\\Users\\49172\\anaconda3\\lib\\site-packages\\sklearn\\base.py:450: UserWarning: X does not have valid feature names, but RandomForestClassifier was fitted with feature names\n",
      "  warnings.warn(\n"
     ]
    },
    {
     "data": {
      "image/png": "[encoded data removed]",
      "text/plain": [
       "<Figure size 640x480 with 2 Axes>"
      ]
     },
     "metadata": {},
     "output_type": "display_data"
    }
   ],
   "source": [
    "print_evaluations(X_test_trans, y_test, forest)"
   ]
  },
  {
   "cell_type": "markdown",
   "id": "fd4767ea",
   "metadata": {},
   "source": [
    "## Model comparison"
   ]
  },
  {
   "cell_type": "code",
   "execution_count": 64,
   "id": "73328b4b",
   "metadata": {},
   "outputs": [
    {
     "data": {
      "text/html": [
       "<div>\n",
       "<style scoped>\n",
       "    .dataframe tbody tr th:only-of-type {\n",
       "        vertical-align: middle;\n",
       "    }\n",
       "\n",
       "    .dataframe tbody tr th {\n",
       "        vertical-align: top;\n",
       "    }\n",
       "\n",
       "    .dataframe thead th {\n",
       "        text-align: right;\n",
       "    }\n",
       "</style>\n",
       "<table border=\"1\" class=\"dataframe\">\n",
       "  <thead>\n",
       "    <tr style=\"text-align: right;\">\n",
       "      <th></th>\n",
       "      <th>Model</th>\n",
       "      <th>Score</th>\n",
       "    </tr>\n",
       "  </thead>\n",
       "  <tbody>\n",
       "    <tr>\n",
       "      <th>3</th>\n",
       "      <td>Random Forest</td>\n",
       "      <td>0.962</td>\n",
       "    </tr>\n",
       "    <tr>\n",
       "      <th>2</th>\n",
       "      <td>Support Vector Machine</td>\n",
       "      <td>0.956</td>\n",
       "    </tr>\n",
       "    <tr>\n",
       "      <th>0</th>\n",
       "      <td>Logistic Regression</td>\n",
       "      <td>0.951</td>\n",
       "    </tr>\n",
       "    <tr>\n",
       "      <th>1</th>\n",
       "      <td>Naive Bayes</td>\n",
       "      <td>0.944</td>\n",
       "    </tr>\n",
       "  </tbody>\n",
       "</table>\n",
       "</div>"
      ],
      "text/plain": [
       "                    Model  Score\n",
       "3           Random Forest  0.962\n",
       "2  Support Vector Machine  0.956\n",
       "0     Logistic Regression  0.951\n",
       "1             Naive Bayes  0.944"
      ]
     },
     "execution_count": 64,
     "metadata": {},
     "output_type": "execute_result"
    }
   ],
   "source": [
    "models = pd.DataFrame({\n",
    "    'Model': ['Logistic Regression','Naive Bayes', 'Support Vector Machine', 'Random Forest'],\n",
    "    \n",
    "    'Score': [acc_log, acc_nb, acc_svm, acc_rf]\n",
    "    })\n",
    "\n",
    "models.sort_values(by='Score', ascending=False)"
   ]
  },
  {
   "cell_type": "code",
   "execution_count": 65,
   "id": "c9618573",
   "metadata": {},
   "outputs": [
    {
     "name": "stderr",
     "output_type": "stream",
     "text": [
      "C:\\Users\\49172\\anaconda3\\lib\\site-packages\\sklearn\\utils\\deprecation.py:87: FutureWarning: Function plot_roc_curve is deprecated; Function :func:`plot_roc_curve` is deprecated in 1.0 and will be removed in 1.2. Use one of the class methods: :meth:`sklearn.metric.RocCurveDisplay.from_predictions` or :meth:`sklearn.metric.RocCurveDisplay.from_estimator`.\n",
      "  warnings.warn(msg, category=FutureWarning)\n",
      "C:\\Users\\49172\\anaconda3\\lib\\site-packages\\sklearn\\base.py:450: UserWarning: X does not have valid feature names, but LogisticRegression was fitted with feature names\n",
      "  warnings.warn(\n",
      "C:\\Users\\49172\\anaconda3\\lib\\site-packages\\sklearn\\utils\\deprecation.py:87: FutureWarning: Function plot_roc_curve is deprecated; Function :func:`plot_roc_curve` is deprecated in 1.0 and will be removed in 1.2. Use one of the class methods: :meth:`sklearn.metric.RocCurveDisplay.from_predictions` or :meth:`sklearn.metric.RocCurveDisplay.from_estimator`.\n",
      "  warnings.warn(msg, category=FutureWarning)\n",
      "C:\\Users\\49172\\anaconda3\\lib\\site-packages\\sklearn\\base.py:450: UserWarning: X does not have valid feature names, but MultinomialNB was fitted with feature names\n",
      "  warnings.warn(\n",
      "C:\\Users\\49172\\anaconda3\\lib\\site-packages\\sklearn\\utils\\deprecation.py:87: FutureWarning: Function plot_roc_curve is deprecated; Function :func:`plot_roc_curve` is deprecated in 1.0 and will be removed in 1.2. Use one of the class methods: :meth:`sklearn.metric.RocCurveDisplay.from_predictions` or :meth:`sklearn.metric.RocCurveDisplay.from_estimator`.\n",
      "  warnings.warn(msg, category=FutureWarning)\n",
      "C:\\Users\\49172\\anaconda3\\lib\\site-packages\\sklearn\\base.py:450: UserWarning: X does not have valid feature names, but SVC was fitted with feature names\n",
      "  warnings.warn(\n",
      "C:\\Users\\49172\\anaconda3\\lib\\site-packages\\sklearn\\utils\\deprecation.py:87: FutureWarning: Function plot_roc_curve is deprecated; Function :func:`plot_roc_curve` is deprecated in 1.0 and will be removed in 1.2. Use one of the class methods: :meth:`sklearn.metric.RocCurveDisplay.from_predictions` or :meth:`sklearn.metric.RocCurveDisplay.from_estimator`.\n",
      "  warnings.warn(msg, category=FutureWarning)\n",
      "C:\\Users\\49172\\anaconda3\\lib\\site-packages\\sklearn\\base.py:450: UserWarning: X does not have valid feature names, but RandomForestClassifier was fitted with feature names\n",
      "  warnings.warn(\n"
     ]
    },
    {
     "data": {
      "text/plain": [
       "<sklearn.metrics._plot.roc_curve.RocCurveDisplay at 0x20d1e27d9d0>"
      ]
     },
     "execution_count": 65,
     "metadata": {},
     "output_type": "execute_result"
    },
    {
     "data": {
      "image/png": "[encoded data removed]",
      "text/plain": [
       "<Figure size 800x500 with 1 Axes>"
      ]
     },
     "metadata": {},
     "output_type": "display_data"
    }
   ],
   "source": [
    "from sklearn import metrics\n",
    "fig, axes = plt.subplots(1,1, figsize=(8,5))\n",
    "metrics.plot_roc_curve(model, X_test_trans, y_test, ax=axes)\n",
    "metrics.plot_roc_curve(nb, X_test_trans, y_test, ax=axes)\n",
    "metrics.plot_roc_curve(svm_clf, X_test_trans, y_test,ax=axes)\n",
    "metrics.plot_roc_curve(forest, X_test_trans, y_test, ax=axes)"
   ]
  },
  {
   "cell_type": "code",
   "execution_count": null,
   "id": "e5ee479c",
   "metadata": {},
   "outputs": [],
   "source": []
  }
 ],
 "metadata": {
  "kernelspec": {
   "display_name": "Python 3 (ipykernel)",
   "language": "python",
   "name": "python3"
  },
  "language_info": {
   "codemirror_mode": {
    "name": "ipython",
    "version": 3
   },
   "file_extension": ".py",
   "mimetype": "text/x-python",
   "name": "python",
   "nbconvert_exporter": "python",
   "pygments_lexer": "ipython3",
   "version": "3.9.13"
  }
 },
 "nbformat": 4,
 "nbformat_minor": 5
}
